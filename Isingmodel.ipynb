{
 "cells": [
  {
   "cell_type": "code",
   "execution_count": 1,
   "metadata": {
    "collapsed": true
   },
   "outputs": [],
   "source": [
    "import numpy as np\n",
    "import matplotlib.pyplot as plt\n",
    "import pandas as pd"
   ]
  },
  {
   "cell_type": "markdown",
   "metadata": {},
   "source": [
    "来週までの課題\n",
    "\n",
    "- $Tc$を求めてそれ以下，それ以上でそれぞれ -1, 1 とラベリングして，実際に機械学習で$Tc$のどちらにいるかを判定させることができるか?"
   ]
  },
  {
   "cell_type": "markdown",
   "metadata": {},
   "source": [
    "# Ising Model\n",
    "\n",
    "エネルギー: $E = - J (S1 + S2 + S3 + S4)$\n",
    "\n",
    "原子が上を向く確率:\n",
    "$$\n",
    " P = \\frac{1}{1 + \\exp \\left( \\frac{2J(S1 + S2 + S3 + S4)}{T} \\right)}\n",
    "$$\n",
    "\n",
    "$$\\frac{Tc}{J} = \\frac{2}{\\log{(1 + \\sqrt{2})}}$$"
   ]
  },
  {
   "cell_type": "code",
   "execution_count": 11,
   "metadata": {},
   "outputs": [
    {
     "data": {
      "text/plain": [
       "2.2691853142130221"
      ]
     },
     "execution_count": 11,
     "metadata": {},
     "output_type": "execute_result"
    }
   ],
   "source": [
    "Tc = 2 / np.log(1 + np.sqrt(2))\n",
    "Tc"
   ]
  },
  {
   "cell_type": "code",
   "execution_count": 12,
   "metadata": {
    "collapsed": true
   },
   "outputs": [],
   "source": [
    "from isingmodel import Isingmodel"
   ]
  },
  {
   "cell_type": "markdown",
   "metadata": {},
   "source": [
    "# temp > Tc となるようなデータを作成\n",
    "\n",
    "$J = 1$で固定"
   ]
  },
  {
   "cell_type": "code",
   "execution_count": 39,
   "metadata": {},
   "outputs": [
    {
     "data": {
      "text/plain": [
       "array([ 2.3,  2.6,  2.9,  3.2,  3.5,  3.8,  4.1,  4.4,  4.7,  5. ])"
      ]
     },
     "execution_count": 39,
     "metadata": {},
     "output_type": "execute_result"
    }
   ],
   "source": [
    "temps = np.linspace(2.3, 10, 10)\n",
    "temps  # 温度変化"
   ]
  },
  {
   "cell_type": "code",
   "execution_count": 40,
   "metadata": {},
   "outputs": [
    {
     "data": {
      "text/plain": [
       "array([ 3,  9, 15])"
      ]
     },
     "execution_count": 40,
     "metadata": {},
     "output_type": "execute_result"
    }
   ],
   "source": [
    "n_iters =np.linspace(3, 15, 3)\n",
    "n_iters = n_iters.astype(int)  # イテレーション回数\n",
    "n_iters"
   ]
  },
  {
   "cell_type": "code",
   "execution_count": 41,
   "metadata": {
    "collapsed": true
   },
   "outputs": [],
   "source": [
    "size=50\n",
    "n_samples=100"
   ]
  },
  {
   "cell_type": "code",
   "execution_count": 91,
   "metadata": {},
   "outputs": [
    {
     "name": "stdout",
     "output_type": "stream",
     "text": [
      "temp = 2.30\n",
      "temp = 2.60\n",
      "temp = 2.90\n",
      "temp = 3.20\n",
      "temp = 3.50\n",
      "temp = 3.80\n",
      "temp = 4.10\n",
      "temp = 4.40\n",
      "temp = 4.70\n",
      "temp = 5.00\n"
     ]
    }
   ],
   "source": [
    "fg=True\n",
    "for temp in temps:\n",
    "    for n_iter in n_iters:\n",
    "        ising = Isingmodel(size=size, n_samples=n_samples, n_iter=n_iter, temp=temp)\n",
    "        if fg:\n",
    "            X = ising.run_gibbs_sampling()\n",
    "            fg=False\n",
    "        else:\n",
    "            X = pd.concat([X, ising.run_gibbs_sampling()], axis=0, ignore_index=True)\n",
    "    print('temp = {:.2f}'.format(temp))\n",
    "Data = pd.concat([X, pd.Series([-1]*X.shape[0])], axis=1)"
   ]
  },
  {
   "cell_type": "code",
   "execution_count": 94,
   "metadata": {},
   "outputs": [],
   "source": [
    "Data = pd.concat([X, pd.Series([-1]*X.shape[0])], axis=1)\n",
    "Data.to_csv('isingModel_data_-1.csv')"
   ]
  },
  {
   "cell_type": "markdown",
   "metadata": {},
   "source": [
    "# temp < Tc となるようなデータを作成\n",
    "\n",
    "$J = 1$で固定"
   ]
  },
  {
   "cell_type": "code",
   "execution_count": 95,
   "metadata": {},
   "outputs": [
    {
     "data": {
      "text/plain": [
       "array([ 0.        ,  0.24444444,  0.48888889,  0.73333333,  0.97777778,\n",
       "        1.22222222,  1.46666667,  1.71111111,  1.95555556,  2.2       ])"
      ]
     },
     "execution_count": 95,
     "metadata": {},
     "output_type": "execute_result"
    }
   ],
   "source": [
    "temps = np.linspace(0, 2.2, 10)\n",
    "temps  # 温度変化"
   ]
  },
  {
   "cell_type": "code",
   "execution_count": 104,
   "metadata": {},
   "outputs": [
    {
     "name": "stdout",
     "output_type": "stream",
     "text": [
      "temp = 0.00\n",
      "temp = 0.24\n",
      "temp = 0.49\n",
      "temp = 0.73\n",
      "temp = 0.98\n",
      "temp = 1.22\n",
      "temp = 1.47\n",
      "temp = 1.71\n",
      "temp = 1.96\n",
      "temp = 2.20\n"
     ]
    }
   ],
   "source": [
    "fg=True\n",
    "for temp in temps:\n",
    "    for n_iter in n_iters:\n",
    "        ising = Isingmodel(size=size, n_samples=n_samples, n_iter=n_iter, temp=temp)\n",
    "        if fg:\n",
    "            Y = ising.run_gibbs_sampling()\n",
    "            fg=False\n",
    "        else:\n",
    "            Y = pd.concat([Y, ising.run_gibbs_sampling()], axis=0, ignore_index=True)\n",
    "    print('temp = {:.2f}'.format(temp))\n",
    "Data = pd.concat([Y, pd.Series([1]*Y.shape[0], name='label')], axis=1)"
   ]
  },
  {
   "cell_type": "code",
   "execution_count": 110,
   "metadata": {},
   "outputs": [
    {
     "data": {
      "text/plain": [
       "<matplotlib.image.AxesImage at 0x1ac4f832f28>"
      ]
     },
     "execution_count": 110,
     "metadata": {},
     "output_type": "execute_result"
    },
    {
     "data": {
      "image/png": "[encoded data removed]",
      "text/plain": [
       "<matplotlib.figure.Figure at 0x1ac4f7772e8>"
      ]
     },
     "metadata": {},
     "output_type": "display_data"
    }
   ],
   "source": [
    "plt.imshow(Data.iloc[400, :-1].values.reshape(size, size), vmin=-1, vmax=1,\n",
    "                         cmap=plt.cm.gray_r, interpolation='nearest')"
   ]
  },
  {
   "cell_type": "code",
   "execution_count": 122,
   "metadata": {},
   "outputs": [],
   "source": [
    "Data = pd.concat([Y, pd.Series([1]*Y.shape[0], name='label')], axis=1)\n",
    "Data.to_csv('isingModel_data_1.csv', index=False)"
   ]
  },
  {
   "cell_type": "code",
   "execution_count": 123,
   "metadata": {
    "collapsed": true
   },
   "outputs": [],
   "source": [
    "Data = pd.concat([X, pd.Series([0]*X.shape[0], name='label')], axis=1)\n",
    "Data.to_csv('isingModel_data_0.csv', index=False)"
   ]
  },
  {
   "cell_type": "code",
   "execution_count": null,
   "metadata": {
    "collapsed": true
   },
   "outputs": [],
   "source": []
  }
 ],
 "metadata": {
  "kernelspec": {
   "display_name": "Python 3",
   "language": "python",
   "name": "python3"
  },
  "language_info": {
   "codemirror_mode": {
    "name": "ipython",
    "version": 3
   },
   "file_extension": ".py",
   "mimetype": "text/x-python",
   "name": "python",
   "nbconvert_exporter": "python",
   "pygments_lexer": "ipython3",
   "version": "3.6.2"
  },
  "toc": {
   "nav_menu": {},
   "number_sections": false,
   "sideBar": true,
   "skip_h1_title": false,
   "toc_cell": false,
   "toc_position": {},
   "toc_section_display": "block",
   "toc_window_display": false
  }
 },
 "nbformat": 4,
 "nbformat_minor": 2
}
